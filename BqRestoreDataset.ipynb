{
 "cells": [
  {
   "cell_type": "code",
   "execution_count": null,
   "metadata": {},
   "outputs": [],
   "source": [
    "import time\n",
    "import datetime\n",
    "import pandas as pd\n",
    "from google.api_core import datetime_helpers\n",
    "from google.cloud import bigquery"
   ]
  },
  {
   "cell_type": "code",
   "execution_count": null,
   "metadata": {},
   "outputs": [],
   "source": [
    "project_id = '' #List project\n",
    "newest_dataset = '' #Newest dataset will all data\n",
    "recovery_dataset = '' #Dataset to recover based on table names in existing dataset"
   ]
  },
  {
   "cell_type": "code",
   "execution_count": null,
   "metadata": {},
   "outputs": [],
   "source": [
    "def find_tables(project_id=\"\", dataset=\"\"):\n",
    "    query=\"\"\"SELECT table_name\n",
    "        FROM\n",
    "        {}.INFORMATION_SCHEMA.TABLES\n",
    "        where table_catalog = '{}'\n",
    "        and table_schema = '{}'\n",
    "        \"\"\".format(dataset,project_id, dataset)\n",
    "    df = pd.read_gbq(query=query,project_id=project_id, dialect=\"standard\")\n",
    "    return list(df[\"table_name\"])\n",
    "\n",
    "def unix_time_millis(dt):\n",
    "    return (dt - epoch).total_seconds() * 1000.0"
   ]
  },
  {
   "cell_type": "code",
   "execution_count": null,
   "metadata": {},
   "outputs": [],
   "source": [
    "tables = find_tables(project_id, newest_dataset)"
   ]
  },
  {
   "cell_type": "code",
   "execution_count": null,
   "metadata": {},
   "outputs": [],
   "source": [
    "tables"
   ]
  },
  {
   "cell_type": "code",
   "execution_count": null,
   "metadata": {},
   "outputs": [],
   "source": [
    "previous_date = \"08-04-2021\"\n",
    "previous_date = previous_date.replace(\"-\",\"\")"
   ]
  },
  {
   "cell_type": "code",
   "execution_count": null,
   "metadata": {},
   "outputs": [],
   "source": [
    "newest_date = \"12-04-2021\"\n",
    "newest_date = newest_date.replace(\"-\",\"\")"
   ]
  },
  {
   "cell_type": "code",
   "execution_count": null,
   "metadata": {},
   "outputs": [],
   "source": [
    "tables = [tbl.replace(newest_date,previous_date) for tbl in tables]"
   ]
  },
  {
   "cell_type": "code",
   "execution_count": null,
   "metadata": {},
   "outputs": [],
   "source": [
    "# Construct a BigQuery client object.\n",
    "client = bigquery.Client(project=project_id)"
   ]
  },
  {
   "cell_type": "code",
   "execution_count": null,
   "metadata": {},
   "outputs": [],
   "source": [
    "tables_to_recover = tables\n",
    "#snapshot_epoch = int(unix_time_millis(datetime.datetime(2021,2,2)))\n",
    "epoch = 1617855600#Use the link to get it http://www.vk2zay.net/calculators/epochTimeConverter.php   and select Australia/Sydney\n",
    "snapshot_epoch = epoch*1000"
   ]
  },
  {
   "cell_type": "code",
   "execution_count": null,
   "metadata": {},
   "outputs": [],
   "source": [
    "#TODO(developer): Choose a table to recover.\n",
    "for table in tables_to_recover:\n",
    "    table_id = f\"{project_id}.{recovery_dataset}.{table}\"\n",
    "\n",
    "    # TODO(developer): Choose a new table ID for the recovered table data.\n",
    "    recovered_table_id = f\"{project_id}.{recovery_dataset}.{table}\"\n",
    "\n",
    "    # TODO(developer): Choose an appropriate snapshot point as epoch\n",
    "    # milliseconds. For this example, we choose the current time as we're about\n",
    "    # to delete the table immediately afterwards.\n",
    "\n",
    "\n",
    "    #use the below snapshot epoch if want to goi back to specific date\n",
    "    \n",
    "    snapshot_table_id = \"{}@{}\".format(table_id, snapshot_epoch)\n",
    "    \n",
    "        # Construct and run a copy job.\n",
    "    try:\n",
    "        job = client.copy_table(\n",
    "            snapshot_table_id,\n",
    "            recovered_table_id,\n",
    "            # Must match the source and destination tables location.\n",
    "            location=\"australia-southeast1\",\n",
    "        )  # Make an API request.\n",
    "\n",
    "        job.result()  # Wait for the job to complete.\n",
    "\n",
    "        print(\n",
    "            \"Copied data from deleted table {} to {}\".format(table_id+f\"@{snapshot_epoch}\", recovered_table_id)\n",
    "        )\n",
    "    except Exception as e:\n",
    "        print(e)"
   ]
  }
 ],
 "metadata": {
  "kernelspec": {
   "display_name": "Python 3",
   "language": "python",
   "name": "python3"
  },
  "language_info": {
   "codemirror_mode": {
    "name": "ipython",
    "version": 3
   },
   "file_extension": ".py",
   "mimetype": "text/x-python",
   "name": "python",
   "nbconvert_exporter": "python",
   "pygments_lexer": "ipython3",
   "version": "3.7.6"
  }
 },
 "nbformat": 4,
 "nbformat_minor": 4
}
